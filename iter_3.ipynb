{
  "nbformat": 4,
  "nbformat_minor": 0,
  "metadata": {
    "colab": {
      "provenance": [],
      "authorship_tag": "ABX9TyMwa4SwX3L2/lSRyya7xJEa",
      "include_colab_link": true
    },
    "kernelspec": {
      "name": "python3",
      "display_name": "Python 3"
    },
    "language_info": {
      "name": "python"
    }
  },
  "cells": [
    {
      "cell_type": "markdown",
      "metadata": {
        "id": "view-in-github",
        "colab_type": "text"
      },
      "source": [
        "<a href=\"https://colab.research.google.com/github/hamster-with-human-hands/spatial-design-studio/blob/main/iter3.ipynb\" target=\"_parent\"><img src=\"https://colab.research.google.com/assets/colab-badge.svg\" alt=\"Open In Colab\"/></a>"
      ]
    },
    {
      "cell_type": "code",
      "execution_count": null,
      "metadata": {
        "id": "sroHwGG-kFKt"
      },
      "outputs": [],
      "source": [
        "!git lfs install\n",
        "!git clone https://huggingface.co/nitrosocke/Ghibli-Diffusion"
      ]
    },
    {
      "cell_type": "code",
      "source": [
        "!pip3 install diffusers"
      ],
      "metadata": {
        "id": "p5VngHuvkp5b"
      },
      "execution_count": null,
      "outputs": []
    },
    {
      "cell_type": "code",
      "source": [
        "from diffusers import StableDiffusionPipeline\n",
        "import torch\n",
        "\n",
        "model_id = \"nitrosocke/Ghibli-Diffusion\"\n",
        "pipe = StableDiffusionPipeline.from_pretrained(model_id, torch_dtype=torch.float16)\n",
        "pipe = pipe.to(\"cuda\")\n",
        "\n",
        "prompt = \"Cinematic film still, 4k, realistic, of assembly hall with large crowd, different table types, floor-to-ceiling window, long shot, landscape shot, large crowd, bright, full shot, highly detailed, high budget Hollywood movie, bokeh, cinemascope, moody, epic, gorgeous, film grain, focus on table, natural light\"\n",
        "# image = pipe(prompt).images[0]\n",
        "image_path = \"/content/audi_amd_small.png\"\n",
        "image = Image.open(image_path)\n",
        "\n",
        "image.save(\"./1.png\")"
      ],
      "metadata": {
        "id": "bnqYgXOxkQYy"
      },
      "execution_count": null,
      "outputs": []
    },
    {
      "cell_type": "code",
      "source": [
        "from diffusers import StableDiffusionPipeline\n",
        "import torch\n",
        "\n",
        "model_id = \"nitrosocke/Ghibli-Diffusion\"\n",
        "pipe = StableDiffusionPipeline.from_pretrained(model_id, torch_dtype=torch.float16)\n",
        "pipe = pipe.to(\"cuda\")\n",
        "\n",
        "prompt = \"Casual meeting room with portable foldable comfortable seats, portable whiteboard, pantry and floor-to-ceiling windows for discussions that allow for natural light streaming in, creating a modern yet inviting atmosphere\"\n",
        "image_path = \"/content/audi_amd_small.png\"\n",
        "image = Image.open(image_path)\n",
        "\n",
        "image.save(\"./2.png\")"
      ],
      "metadata": {
        "id": "bRJOPS1AncT5"
      },
      "execution_count": null,
      "outputs": []
    }
  ]
}