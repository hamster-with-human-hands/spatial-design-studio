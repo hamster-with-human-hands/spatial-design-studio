{
  "nbformat": 4,
  "nbformat_minor": 0,
  "metadata": {
    "colab": {
      "provenance": [],
      "mount_file_id": "1XEa6ANN_kYPPKteHFT2Tlh7XQMwnQ7T-",
      "authorship_tag": "ABX9TyOhokOEFkixX1dIGeYxAmVS",
      "include_colab_link": true
    },
    "kernelspec": {
      "name": "python3",
      "display_name": "Python 3"
    },
    "language_info": {
      "name": "python"
    }
  },
  "cells": [
    {
      "cell_type": "markdown",
      "metadata": {
        "id": "view-in-github",
        "colab_type": "text"
      },
      "source": [
        "<a href=\"https://colab.research.google.com/github/hamster-with-human-hands/spatial-design-studio/blob/main/iter_5.ipynb\" target=\"_parent\"><img src=\"https://colab.research.google.com/assets/colab-badge.svg\" alt=\"Open In Colab\"/></a>"
      ]
    },
    {
      "cell_type": "code",
      "execution_count": null,
      "metadata": {
        "colab": {
          "base_uri": "https://localhost:8080/"
        },
        "id": "arR4TWrddZWU",
        "outputId": "f6dc6a19-7af1-4fcf-befe-ac7ca4646ba2"
      },
      "outputs": [
        {
          "output_type": "stream",
          "name": "stdout",
          "text": [
            "Collecting replicate\n",
            "  Downloading replicate-0.21.0-py3-none-any.whl (34 kB)\n",
            "Collecting httpx<1,>=0.21.0 (from replicate)\n",
            "  Downloading httpx-0.25.2-py3-none-any.whl (74 kB)\n",
            "\u001b[2K     \u001b[90m━━━━━━━━━━━━━━━━━━━━━━━━━━━━━━━━━━━━━━━━\u001b[0m \u001b[32m75.0/75.0 kB\u001b[0m \u001b[31m3.5 MB/s\u001b[0m eta \u001b[36m0:00:00\u001b[0m\n",
            "\u001b[?25hRequirement already satisfied: packaging in /usr/local/lib/python3.10/dist-packages (from replicate) (23.2)\n",
            "Requirement already satisfied: pydantic>1 in /usr/local/lib/python3.10/dist-packages (from replicate) (1.10.13)\n",
            "Requirement already satisfied: typing-extensions>=4.5.0 in /usr/local/lib/python3.10/dist-packages (from replicate) (4.5.0)\n",
            "Requirement already satisfied: anyio in /usr/local/lib/python3.10/dist-packages (from httpx<1,>=0.21.0->replicate) (3.7.1)\n",
            "Requirement already satisfied: certifi in /usr/local/lib/python3.10/dist-packages (from httpx<1,>=0.21.0->replicate) (2023.11.17)\n",
            "Collecting httpcore==1.* (from httpx<1,>=0.21.0->replicate)\n",
            "  Downloading httpcore-1.0.2-py3-none-any.whl (76 kB)\n",
            "\u001b[2K     \u001b[90m━━━━━━━━━━━━━━━━━━━━━━━━━━━━━━━━━━━━━━━━\u001b[0m \u001b[32m76.9/76.9 kB\u001b[0m \u001b[31m11.2 MB/s\u001b[0m eta \u001b[36m0:00:00\u001b[0m\n",
            "\u001b[?25hRequirement already satisfied: idna in /usr/local/lib/python3.10/dist-packages (from httpx<1,>=0.21.0->replicate) (3.6)\n",
            "Requirement already satisfied: sniffio in /usr/local/lib/python3.10/dist-packages (from httpx<1,>=0.21.0->replicate) (1.3.0)\n",
            "Collecting h11<0.15,>=0.13 (from httpcore==1.*->httpx<1,>=0.21.0->replicate)\n",
            "  Downloading h11-0.14.0-py3-none-any.whl (58 kB)\n",
            "\u001b[2K     \u001b[90m━━━━━━━━━━━━━━━━━━━━━━━━━━━━━━━━━━━━━━━━\u001b[0m \u001b[32m58.3/58.3 kB\u001b[0m \u001b[31m8.2 MB/s\u001b[0m eta \u001b[36m0:00:00\u001b[0m\n",
            "\u001b[?25hRequirement already satisfied: exceptiongroup in /usr/local/lib/python3.10/dist-packages (from anyio->httpx<1,>=0.21.0->replicate) (1.2.0)\n",
            "Installing collected packages: h11, httpcore, httpx, replicate\n",
            "Successfully installed h11-0.14.0 httpcore-1.0.2 httpx-0.25.2 replicate-0.21.0\n"
          ]
        }
      ],
      "source": [
        "!pip install replicate"
      ]
    },
    {
      "cell_type": "code",
      "source": [
        "# !export REPLICATE_API_TOKEN=r8_B8nj5KkMfHshHYhwwvmKdXtVh86wnEr1BakhK\n",
        "# Set Replicate API token\n",
        "import os\n",
        "\n",
        "# Set Replicate API token\n",
        "os.environ[\"REPLICATE_API_TOKEN\"] = \"r8_B8nj5KkMfHshHYhwwvmKdXtVh86wnEr1BakhK\"\n",
        "\n",
        "# # Now you can use the replicate module\n",
        "# import replicate\n",
        "# output = replicate.run(\n",
        "#     \"stability-ai/stable-diffusion-img2img:15a3689ee13b0d2616e98820eca31d4c3abcd36672df6afce5cb6feb1d66087d\",\n",
        "#     input={\"prompt\": \"A fantasy landscape, trending on artstation\"}\n",
        "# )\n",
        "# print(output)\n"
      ],
      "metadata": {
        "id": "S4oOqc3L2Ssm"
      },
      "execution_count": null,
      "outputs": []
    },
    {
      "cell_type": "code",
      "source": [
        "# import replicate\n",
        "# output = replicate.run(\n",
        "#     \"stability-ai/stable-diffusion-img2img:15a3689ee13b0d2616e98820eca31d4c3abcd36672df6afce5cb6feb1d66087d\",\n",
        "#     input={\"prompt\": \"A fantasy landscape, trending on artstation\"}\n",
        "# )\n",
        "# print(output)"
      ],
      "metadata": {
        "colab": {
          "base_uri": "https://localhost:8080/",
          "height": 356
        },
        "id": "GRbsb0wn2V3u",
        "outputId": "91b5a46d-5957-4902-9e84-1d8739cae4f4"
      },
      "execution_count": null,
      "outputs": [
        {
          "output_type": "error",
          "ename": "ReplicateError",
          "evalue": "ignored",
          "traceback": [
            "\u001b[0;31m---------------------------------------------------------------------------\u001b[0m",
            "\u001b[0;31mReplicateError\u001b[0m                            Traceback (most recent call last)",
            "\u001b[0;32m<ipython-input-23-434db52c43ab>\u001b[0m in \u001b[0;36m<cell line: 2>\u001b[0;34m()\u001b[0m\n\u001b[1;32m      1\u001b[0m \u001b[0;32mimport\u001b[0m \u001b[0mreplicate\u001b[0m\u001b[0;34m\u001b[0m\u001b[0;34m\u001b[0m\u001b[0m\n\u001b[0;32m----> 2\u001b[0;31m output = replicate.run(\n\u001b[0m\u001b[1;32m      3\u001b[0m     \u001b[0;34m\"stability-ai/stable-diffusion-img2img:15a3689ee13b0d2616e98820eca31d4c3abcd36672df6afce5cb6feb1d66087d\"\u001b[0m\u001b[0;34m,\u001b[0m\u001b[0;34m\u001b[0m\u001b[0;34m\u001b[0m\u001b[0m\n\u001b[1;32m      4\u001b[0m     \u001b[0minput\u001b[0m\u001b[0;34m=\u001b[0m\u001b[0;34m{\u001b[0m\u001b[0;34m\"prompt\"\u001b[0m\u001b[0;34m:\u001b[0m \u001b[0;34m\"A fantasy landscape, trending on artstation\"\u001b[0m\u001b[0;34m}\u001b[0m\u001b[0;34m\u001b[0m\u001b[0;34m\u001b[0m\u001b[0m\n\u001b[1;32m      5\u001b[0m )\n",
            "\u001b[0;32m/usr/local/lib/python3.10/dist-packages/replicate/client.py\u001b[0m in \u001b[0;36mrun\u001b[0;34m(self, ref, input, **params)\u001b[0m\n\u001b[1;32m    145\u001b[0m         \"\"\"\n\u001b[1;32m    146\u001b[0m \u001b[0;34m\u001b[0m\u001b[0m\n\u001b[0;32m--> 147\u001b[0;31m         \u001b[0;32mreturn\u001b[0m \u001b[0mrun\u001b[0m\u001b[0;34m(\u001b[0m\u001b[0mself\u001b[0m\u001b[0;34m,\u001b[0m \u001b[0mref\u001b[0m\u001b[0;34m,\u001b[0m \u001b[0minput\u001b[0m\u001b[0;34m,\u001b[0m \u001b[0;34m**\u001b[0m\u001b[0mparams\u001b[0m\u001b[0;34m)\u001b[0m\u001b[0;34m\u001b[0m\u001b[0;34m\u001b[0m\u001b[0m\n\u001b[0m\u001b[1;32m    148\u001b[0m \u001b[0;34m\u001b[0m\u001b[0m\n\u001b[1;32m    149\u001b[0m     async def async_run(\n",
            "\u001b[0;32m/usr/local/lib/python3.10/dist-packages/replicate/run.py\u001b[0m in \u001b[0;36mrun\u001b[0;34m(client, ref, input, **params)\u001b[0m\n\u001b[1;32m     26\u001b[0m     \u001b[0mowner\u001b[0m\u001b[0;34m,\u001b[0m \u001b[0mname\u001b[0m\u001b[0;34m,\u001b[0m \u001b[0mversion_id\u001b[0m \u001b[0;34m=\u001b[0m \u001b[0mModelVersionIdentifier\u001b[0m\u001b[0;34m.\u001b[0m\u001b[0mparse\u001b[0m\u001b[0;34m(\u001b[0m\u001b[0mref\u001b[0m\u001b[0;34m)\u001b[0m\u001b[0;34m\u001b[0m\u001b[0;34m\u001b[0m\u001b[0m\n\u001b[1;32m     27\u001b[0m \u001b[0;34m\u001b[0m\u001b[0m\n\u001b[0;32m---> 28\u001b[0;31m     prediction = client.predictions.create(\n\u001b[0m\u001b[1;32m     29\u001b[0m         \u001b[0mversion\u001b[0m\u001b[0;34m=\u001b[0m\u001b[0mversion_id\u001b[0m\u001b[0;34m,\u001b[0m \u001b[0minput\u001b[0m\u001b[0;34m=\u001b[0m\u001b[0minput\u001b[0m \u001b[0;32mor\u001b[0m \u001b[0;34m{\u001b[0m\u001b[0;34m}\u001b[0m\u001b[0;34m,\u001b[0m \u001b[0;34m**\u001b[0m\u001b[0mparams\u001b[0m\u001b[0;34m\u001b[0m\u001b[0;34m\u001b[0m\u001b[0m\n\u001b[1;32m     30\u001b[0m     )\n",
            "\u001b[0;32m/usr/local/lib/python3.10/dist-packages/replicate/prediction.py\u001b[0m in \u001b[0;36mcreate\u001b[0;34m(self, version, input, **params)\u001b[0m\n\u001b[1;32m    286\u001b[0m             \u001b[0;34m**\u001b[0m\u001b[0mparams\u001b[0m\u001b[0;34m,\u001b[0m\u001b[0;34m\u001b[0m\u001b[0;34m\u001b[0m\u001b[0m\n\u001b[1;32m    287\u001b[0m         )\n\u001b[0;32m--> 288\u001b[0;31m         resp = self._client._request(\n\u001b[0m\u001b[1;32m    289\u001b[0m             \u001b[0;34m\"POST\"\u001b[0m\u001b[0;34m,\u001b[0m\u001b[0;34m\u001b[0m\u001b[0;34m\u001b[0m\u001b[0m\n\u001b[1;32m    290\u001b[0m             \u001b[0;34m\"/v1/predictions\"\u001b[0m\u001b[0;34m,\u001b[0m\u001b[0;34m\u001b[0m\u001b[0;34m\u001b[0m\u001b[0m\n",
            "\u001b[0;32m/usr/local/lib/python3.10/dist-packages/replicate/client.py\u001b[0m in \u001b[0;36m_request\u001b[0;34m(self, method, path, **kwargs)\u001b[0m\n\u001b[1;32m     83\u001b[0m     \u001b[0;32mdef\u001b[0m \u001b[0m_request\u001b[0m\u001b[0;34m(\u001b[0m\u001b[0mself\u001b[0m\u001b[0;34m,\u001b[0m \u001b[0mmethod\u001b[0m\u001b[0;34m:\u001b[0m \u001b[0mstr\u001b[0m\u001b[0;34m,\u001b[0m \u001b[0mpath\u001b[0m\u001b[0;34m:\u001b[0m \u001b[0mstr\u001b[0m\u001b[0;34m,\u001b[0m \u001b[0;34m**\u001b[0m\u001b[0mkwargs\u001b[0m\u001b[0;34m)\u001b[0m \u001b[0;34m->\u001b[0m \u001b[0mhttpx\u001b[0m\u001b[0;34m.\u001b[0m\u001b[0mResponse\u001b[0m\u001b[0;34m:\u001b[0m\u001b[0;34m\u001b[0m\u001b[0;34m\u001b[0m\u001b[0m\n\u001b[1;32m     84\u001b[0m         \u001b[0mresp\u001b[0m \u001b[0;34m=\u001b[0m \u001b[0mself\u001b[0m\u001b[0;34m.\u001b[0m\u001b[0m_client\u001b[0m\u001b[0;34m.\u001b[0m\u001b[0mrequest\u001b[0m\u001b[0;34m(\u001b[0m\u001b[0mmethod\u001b[0m\u001b[0;34m,\u001b[0m \u001b[0mpath\u001b[0m\u001b[0;34m,\u001b[0m \u001b[0;34m**\u001b[0m\u001b[0mkwargs\u001b[0m\u001b[0;34m)\u001b[0m\u001b[0;34m\u001b[0m\u001b[0;34m\u001b[0m\u001b[0m\n\u001b[0;32m---> 85\u001b[0;31m         \u001b[0m_raise_for_status\u001b[0m\u001b[0;34m(\u001b[0m\u001b[0mresp\u001b[0m\u001b[0;34m)\u001b[0m\u001b[0;34m\u001b[0m\u001b[0;34m\u001b[0m\u001b[0m\n\u001b[0m\u001b[1;32m     86\u001b[0m \u001b[0;34m\u001b[0m\u001b[0m\n\u001b[1;32m     87\u001b[0m         \u001b[0;32mreturn\u001b[0m \u001b[0mresp\u001b[0m\u001b[0;34m\u001b[0m\u001b[0;34m\u001b[0m\u001b[0m\n",
            "\u001b[0;32m/usr/local/lib/python3.10/dist-packages/replicate/client.py\u001b[0m in \u001b[0;36m_raise_for_status\u001b[0;34m(resp)\u001b[0m\n\u001b[1;32m    356\u001b[0m \u001b[0;32mdef\u001b[0m \u001b[0m_raise_for_status\u001b[0m\u001b[0;34m(\u001b[0m\u001b[0mresp\u001b[0m\u001b[0;34m:\u001b[0m \u001b[0mhttpx\u001b[0m\u001b[0;34m.\u001b[0m\u001b[0mResponse\u001b[0m\u001b[0;34m)\u001b[0m \u001b[0;34m->\u001b[0m \u001b[0;32mNone\u001b[0m\u001b[0;34m:\u001b[0m\u001b[0;34m\u001b[0m\u001b[0;34m\u001b[0m\u001b[0m\n\u001b[1;32m    357\u001b[0m     \u001b[0;32mif\u001b[0m \u001b[0;36m400\u001b[0m \u001b[0;34m<=\u001b[0m \u001b[0mresp\u001b[0m\u001b[0;34m.\u001b[0m\u001b[0mstatus_code\u001b[0m \u001b[0;34m<\u001b[0m \u001b[0;36m600\u001b[0m\u001b[0;34m:\u001b[0m\u001b[0;34m\u001b[0m\u001b[0;34m\u001b[0m\u001b[0m\n\u001b[0;32m--> 358\u001b[0;31m         \u001b[0;32mraise\u001b[0m \u001b[0mReplicateError\u001b[0m\u001b[0;34m(\u001b[0m\u001b[0mresp\u001b[0m\u001b[0;34m.\u001b[0m\u001b[0mjson\u001b[0m\u001b[0;34m(\u001b[0m\u001b[0;34m)\u001b[0m\u001b[0;34m[\u001b[0m\u001b[0;34m\"detail\"\u001b[0m\u001b[0;34m]\u001b[0m\u001b[0;34m)\u001b[0m\u001b[0;34m\u001b[0m\u001b[0;34m\u001b[0m\u001b[0m\n\u001b[0m",
            "\u001b[0;31mReplicateError\u001b[0m: - input: image is required\n"
          ]
        }
      ]
    },
    {
      "cell_type": "code",
      "source": [
        "import replicate\n",
        "replicate.run(\n",
        "  \"stability-ai/stable-diffusion:27b93a2413e7f36cd83da926f3656280b2931564ff050bf9575f1fdf9bcd7478\",\n",
        "    input={\"prompt\": \"casual meeting room with portable foldable comfortable seats, portable whiteboard, pantry and floor-to-ceiling windows for discussions that allow for natural light streaming in, creating a modern yet inviting atmosphere\",\n",
        "           \"image\": open(\"/content/audi_amd_small.png\", \"rb\"),\n",
        "            \"prompt_strength\": 0.8},\n",
        "    # input={\"image\": open(\"/content/audi_amd_small.png\", \"rb\")},\n",
        "    # input={\"prompt_strength\": 0.8},\n",
        "\n",
        ")\n",
        "\n",
        "# ['https://replicate.com/api/models/stability-ai/stable-diffusion/files/50fcac81-865d-499e-81ac-49de0cb79264/out-0.png']"
      ],
      "metadata": {
        "colab": {
          "base_uri": "https://localhost:8080/"
        },
        "id": "Cy7xW3Hi5nUH",
        "outputId": "12906905-a821-4da2-e41f-a4650e388a9f"
      },
      "execution_count": null,
      "outputs": [
        {
          "output_type": "execute_result",
          "data": {
            "text/plain": [
              "['https://replicate.delivery/pbxt/cWZkDZVGxWoOMlA3ebUkKacGnLxA2lWqByL4os3YT3GBNHfRA/out-0.png']"
            ]
          },
          "metadata": {},
          "execution_count": 5
        }
      ]
    },
    {
      "cell_type": "code",
      "source": [
        "import replicate\n",
        "replicate.run(\n",
        "  \"stability-ai/stable-diffusion:27b93a2413e7f36cd83da926f3656280b2931564ff050bf9575f1fdf9bcd7478\",\n",
        "    input={\"prompt\": \"casual meeting room with portable foldable comfortable seats, portable whiteboard, pantry and floor-to-ceiling windows for discussions that allow for natural light streaming in, creating a modern yet inviting atmosphere\",\n",
        "           \"image\": open(\"/content/audi_amd_small.png\", \"rb\"),\n",
        "           \"prompt_strength\": 0.8,\n",
        "          \"num_outputs\":3,\n",
        "            \"num_inference_steps\":25,\n",
        "           \"scheduler\": \"K_EULER\",\n",
        "    },\n",
        ")\n",
        "\n",
        "# params:\n",
        "# negative_prompt, prompt, image, prompt_strength, num_outputs, num_inference_steps, guidance_scale, scheduler, seed\n",
        "\n",
        "# scheduler allowed values:DDIM, K_EULER, DPMSolverMultistep, K_EULER_ANCESTRAL, PNDM, KLMS\n",
        "# scheduler default value: DPMSolverMultistep\n",
        "\n",
        "# generated file name: strength0.8_inference25_DPMSolverMultistep"
      ],
      "metadata": {
        "colab": {
          "base_uri": "https://localhost:8080/"
        },
        "id": "EXJzMqCp5u-h",
        "outputId": "b5137cd7-a699-4880-f27d-336a91dbd7fd"
      },
      "execution_count": null,
      "outputs": [
        {
          "output_type": "execute_result",
          "data": {
            "text/plain": [
              "['https://replicate.delivery/pbxt/7eCIp1nje8ujrUxMXAWIqcZgeC3eX9f0lzq5l5YCmBj7t0xPC/out-0.png',\n",
              " 'https://replicate.delivery/pbxt/TKVQzkFd2xbPNp65nMDopirWaV0EbqO0fWLg80i06Tc4SHfRA/out-1.png',\n",
              " 'https://replicate.delivery/pbxt/VigPJheCIfsbRkQOmLeLsiNwoOWuklwtqDGNKXoGbUEhLd8jA/out-2.png']"
            ]
          },
          "metadata": {},
          "execution_count": 6
        }
      ]
    },
    {
      "cell_type": "code",
      "source": [
        "import replicate\n",
        "replicate.run(\n",
        "  \"stability-ai/stable-diffusion:27b93a2413e7f36cd83da926f3656280b2931564ff050bf9575f1fdf9bcd7478\",\n",
        "    input={\"prompt\": \"casual meeting room with portable foldable comfortable seats, portable whiteboard, pantry and floor-to-ceiling windows for discussions that allow for natural light streaming in, creating a modern yet inviting atmosphere\",\n",
        "           \"image\": open(\"/content/audi_amd_small.png\", \"rb\"),\n",
        "           \"prompt_strength\": 0.8,\n",
        "          \"num_outputs\":3,\n",
        "            \"num_inference_steps\":25,\n",
        "           \"scheduler\": \"DDIM\",\n",
        "    },\n",
        ")\n",
        "\n",
        "# params:\n",
        "# negative_prompt, prompt, image, prompt_strength, num_outputs, num_inference_steps, guidance_scale, scheduler, seed\n",
        "\n",
        "# scheduler allowed values:DDIM, K_EULER, DPMSolverMultistep, K_EULER_ANCESTRAL, PNDM, KLMS\n",
        "# scheduler default value: DPMSolverMultistep\n",
        "\n",
        "# generated file name: strength0.8_inference25_DDIM"
      ],
      "metadata": {
        "colab": {
          "base_uri": "https://localhost:8080/"
        },
        "id": "nA1_ng2708NZ",
        "outputId": "6359fe7b-8520-4e9c-8534-47582b29588e"
      },
      "execution_count": null,
      "outputs": [
        {
          "output_type": "execute_result",
          "data": {
            "text/plain": [
              "['https://replicate.delivery/pbxt/eEhezSvMs9vzfJHLoORpSBkL7Sh28fhbBsUtqfiyZPBMQ1xPC/out-0.png',\n",
              " 'https://replicate.delivery/pbxt/NnZ8d50msYpeY6cSA0DgUCgyyDQe2OHmM3yDER6yayJCqOejA/out-1.png',\n",
              " 'https://replicate.delivery/pbxt/hAxJ0PTqzuomLpp4Nreiksoe7XQvGBLDW4fMDvONsD0FUd8jA/out-2.png']"
            ]
          },
          "metadata": {},
          "execution_count": 7
        }
      ]
    },
    {
      "cell_type": "code",
      "source": [
        "import replicate\n",
        "replicate.run(\n",
        "  \"stability-ai/stable-diffusion:27b93a2413e7f36cd83da926f3656280b2931564ff050bf9575f1fdf9bcd7478\",\n",
        "    input={\"prompt\": \"casual meeting room with portable foldable comfortable seats, portable whiteboard, pantry and floor-to-ceiling windows for discussions that allow for natural light streaming in, creating a modern yet inviting atmosphere\",\n",
        "           \"image\": open(\"/content/audi_amd_small.png\", \"rb\"),\n",
        "           \"prompt_strength\": 0.7,\n",
        "          \"num_outputs\":3,\n",
        "            \"num_inference_steps\":25,\n",
        "           \"scheduler\": \"DDIM\",\n",
        "    },\n",
        ")\n",
        "\n",
        "# params:\n",
        "# negative_prompt, prompt, image, prompt_strength, num_outputs, num_inference_steps, guidance_scale, scheduler, seed\n",
        "\n",
        "# scheduler allowed values:DDIM, K_EULER, DPMSolverMultistep, K_EULER_ANCESTRAL, PNDM, KLMS\n",
        "# scheduler default value: DPMSolverMultistep\n",
        "\n",
        "# generated file name: strength0.7_inference25_DDIM"
      ],
      "metadata": {
        "colab": {
          "base_uri": "https://localhost:8080/"
        },
        "id": "tRyoyIkY1dGY",
        "outputId": "211c6c50-bafe-4205-81fa-923344f2efe7"
      },
      "execution_count": null,
      "outputs": [
        {
          "output_type": "execute_result",
          "data": {
            "text/plain": [
              "['https://replicate.delivery/pbxt/JkAttadjk5aFAR3qwe6lQKQh3ukmWTyto115yY7WAqXsVHfRA/out-0.png',\n",
              " 'https://replicate.delivery/pbxt/VIzv798fMhQgL6LzHav3s0ZxjeLj4qPMwRhj3skMDzLZrOejA/out-1.png',\n",
              " 'https://replicate.delivery/pbxt/DHBACh8cu2onBtfOqwDL2KFHBn6W2tdoschkeVQ4DgGZrOejA/out-2.png']"
            ]
          },
          "metadata": {},
          "execution_count": 8
        }
      ]
    },
    {
      "cell_type": "code",
      "source": [
        "import replicate\n",
        "replicate.run(\n",
        "  \"stability-ai/stable-diffusion:27b93a2413e7f36cd83da926f3656280b2931564ff050bf9575f1fdf9bcd7478\",\n",
        "    input={\"prompt\": \"casual meeting room with portable foldable comfortable seats, portable whiteboard, pantry and floor-to-ceiling windows for discussions that allow for natural light streaming in, creating a modern yet inviting atmosphere\",\n",
        "           \"image\": open(\"/content/audi_amd_small.png\", \"rb\"),\n",
        "           \"prompt_strength\": 0.9,\n",
        "          \"num_outputs\":3,\n",
        "            \"num_inference_steps\":25,\n",
        "           \"scheduler\": \"DDIM\",\n",
        "    },\n",
        ")\n",
        "\n",
        "# params:\n",
        "# negative_prompt, prompt, image, prompt_strength, num_outputs, num_inference_steps, guidance_scale, scheduler, seed\n",
        "\n",
        "# scheduler allowed values:DDIM, K_EULER, DPMSolverMultistep, K_EULER_ANCESTRAL, PNDM, KLMS\n",
        "# scheduler default value: DPMSolverMultistep\n",
        "\n",
        "# generated file name: strength0.9_inference25_DDIM"
      ],
      "metadata": {
        "colab": {
          "base_uri": "https://localhost:8080/"
        },
        "id": "6v2mHO4S08d1",
        "outputId": "8a222e7e-43dc-4a1f-99ba-8622de07f955"
      },
      "execution_count": null,
      "outputs": [
        {
          "output_type": "execute_result",
          "data": {
            "text/plain": [
              "['https://replicate.delivery/pbxt/FwkfIUF83ZRQPa8BQQbKMc83ZFvBr6H9FiHseqRSQm0qtOejA/out-0.png',\n",
              " 'https://replicate.delivery/pbxt/qDwsSQ3i1lIaHFB5JEqvtEHwbX3JjZ7eBU5ea5OmoIRrtOejA/out-1.png',\n",
              " 'https://replicate.delivery/pbxt/cjEsbelnxjSSdyBhFtj32xX9XRylQUyj7XlINRPGxrB2WHfRA/out-2.png']"
            ]
          },
          "metadata": {},
          "execution_count": 9
        }
      ]
    },
    {
      "cell_type": "code",
      "source": [
        "import replicate\n",
        "replicate.run(\n",
        "  \"stability-ai/stable-diffusion:27b93a2413e7f36cd83da926f3656280b2931564ff050bf9575f1fdf9bcd7478\",\n",
        "    input={\"prompt\": \"casual meeting room with portable foldable comfortable seats, portable whiteboard, pantry and floor-to-ceiling windows for discussions that allow for natural light streaming in, creating a modern yet inviting atmosphere\",\n",
        "           \"image\": open(\"/content/audi_amd_small.png\", \"rb\"),\n",
        "           \"prompt_strength\": 0.9,\n",
        "          \"num_outputs\":3,\n",
        "            \"num_inference_steps\":25,\n",
        "           \"scheduler\": \"K_EULER\",\n",
        "    },\n",
        ")\n",
        "\n",
        "# params:\n",
        "# negative_prompt, prompt, image, prompt_strength, num_outputs, num_inference_steps, guidance_scale, scheduler, seed\n",
        "\n",
        "# scheduler allowed values:DDIM, K_EULER, DPMSolverMultistep, K_EULER_ANCESTRAL, PNDM, KLMS\n",
        "# scheduler default value: DPMSolverMultistep\n",
        "\n",
        "# generated file name: strength0.9_inference25_K-EULER"
      ],
      "metadata": {
        "colab": {
          "base_uri": "https://localhost:8080/"
        },
        "id": "jA9WC7Zj2XJv",
        "outputId": "fc0d5809-16c0-479b-b666-73689fc47c14"
      },
      "execution_count": null,
      "outputs": [
        {
          "output_type": "execute_result",
          "data": {
            "text/plain": [
              "['https://replicate.delivery/pbxt/H9wTsjfOUfi5BEDWHeVOpPa8K3Jc5e1Q51J1c1PisMoW864HB/out-0.png',\n",
              " 'https://replicate.delivery/pbxt/R5iWBLLks9KJDpAfsvmeQtKO8QUQuWRk0EykTip0GldFvOejA/out-1.png',\n",
              " 'https://replicate.delivery/pbxt/7KbwAznlqfUzHqA98dGoRh5cyzxVPrAedLFGxyhL2NGGvOejA/out-2.png']"
            ]
          },
          "metadata": {},
          "execution_count": 10
        }
      ]
    },
    {
      "cell_type": "code",
      "source": [
        "import replicate\n",
        "replicate.run(\n",
        "  \"stability-ai/stable-diffusion:27b93a2413e7f36cd83da926f3656280b2931564ff050bf9575f1fdf9bcd7478\",\n",
        "    input={\"prompt\": \"casual meeting room with portable foldable comfortable seats, portable whiteboard, pantry and floor-to-ceiling windows for discussions that allow for natural light streaming in, creating a modern yet inviting atmosphere\",\n",
        "           \"image\": open(\"/content/audi_amd_small.png\", \"rb\"),\n",
        "           \"prompt_strength\": 0.9,\n",
        "          \"num_outputs\":3,\n",
        "            \"num_inference_steps\":25,\n",
        "          #  \"scheduler\": \"DPMSolverMultistep\",\n",
        "    },\n",
        ")\n",
        "\n",
        "# params:\n",
        "# negative_prompt, prompt, image, prompt_strength, num_outputs, num_inference_steps, guidance_scale, scheduler, seed\n",
        "\n",
        "# scheduler allowed values:DDIM, K_EULER, DPMSolverMultistep, K_EULER_ANCESTRAL, PNDM, KLMS\n",
        "# scheduler default value: DPMSolverMultistep\n",
        "\n",
        "# generated file name: strength0.9_inference25_DPMSolverMultistep"
      ],
      "metadata": {
        "colab": {
          "base_uri": "https://localhost:8080/"
        },
        "id": "pL4ZpmaY3nuo",
        "outputId": "cdb4b121-5c9e-4faf-80c0-32f353752581"
      },
      "execution_count": null,
      "outputs": [
        {
          "output_type": "execute_result",
          "data": {
            "text/plain": [
              "['https://replicate.delivery/pbxt/3gah7ma1ey3rbyGgmcLq5KqSn1SpSheU72QG6fnKXhITpd8jA/out-0.png',\n",
              " 'https://replicate.delivery/pbxt/QSoFHKpS8w5bDhCU3fXA8hkbvGDlDlMjLnvk3T0WJBnUaHfRA/out-1.png',\n",
              " 'https://replicate.delivery/pbxt/doBb6KB56wJaHx09VX7DEzeGNIU8wuc2jIaQL10wAOfq0OejA/out-2.png']"
            ]
          },
          "metadata": {},
          "execution_count": 12
        }
      ]
    },
    {
      "cell_type": "code",
      "source": [
        "\n",
        "replicate.run(\n",
        "  \"stability-ai/stable-diffusion:27b93a2413e7f36cd83da926f3656280b2931564ff050bf9575f1fdf9bcd7478\",\n",
        "    input={\"prompt\": \"casual meeting room with portable foldable comfortable seats, portable whiteboard, pantry, and floor-to-ceiling windows for discussions that allow for natural light streaming in, creating a modern yet inviting atmosphere\",\n",
        "           \"image\": open(\"/content/audi_amd_small.png\", \"rb\"),\n",
        "           \"prompt_strength\": 0.6,\n",
        "          \"num_outputs\":3,\n",
        "            \"num_inference_steps\":25,\n",
        "           \"scheduler\": \"DDIM\",\n",
        "    },\n",
        ")\n",
        "\n",
        "# params:\n",
        "# negative_prompt, prompt, image, prompt_strength, num_outputs, num_inference_steps, guidance_scale, scheduler, seed\n",
        "\n",
        "# scheduler allowed values:DDIM, K_EULER, DPMSolverMultistep, K_EULER_ANCESTRAL, PNDM, KLMS\n",
        "# scheduler default value: DPMSolverMultistep\n",
        "\n",
        "# generated file name: strength0.6_inference25_DDIM"
      ],
      "metadata": {
        "colab": {
          "base_uri": "https://localhost:8080/"
        },
        "id": "FV6xJs6M394p",
        "outputId": "9a224c9f-b6b6-4954-fb5f-914f75d0b84a"
      },
      "execution_count": null,
      "outputs": [
        {
          "output_type": "execute_result",
          "data": {
            "text/plain": [
              "['https://replicate.delivery/pbxt/80fykDmXJpQraiMgsaTStWq5ufeVBJbFSrGTVh9SdzOgvd8jA/out-0.png',\n",
              " 'https://replicate.delivery/pbxt/3yvq0UzAL1rgAJEACAFIkv5OvpAo7E3rSTFF06g5oiK8tjfIA/out-1.png',\n",
              " 'https://replicate.delivery/pbxt/ET8HUYqQgFakPxR5oELpSL3k7jueXRBa4R50tALhZCh4bHfRA/out-2.png']"
            ]
          },
          "metadata": {},
          "execution_count": 14
        }
      ]
    },
    {
      "cell_type": "code",
      "source": [
        "replicate.run(\n",
        "  \"stability-ai/stable-diffusion:27b93a2413e7f36cd83da926f3656280b2931564ff050bf9575f1fdf9bcd7478\",\n",
        "    input={\"prompt\": \"casual meeting room with portable foldable comfortable seats, easy to sleep, portable whiteboard, pantry, and floor-to-ceiling windows for discussions that allow for natural light streaming in, creating a modern yet inviting atmosphere\",\n",
        "           \"image\": open(\"/content/audi_amd_small.png\", \"rb\"),\n",
        "           \"prompt_strength\": 0.7,\n",
        "          \"num_outputs\":3,\n",
        "            \"num_inference_steps\":25,\n",
        "           \"scheduler\": \"DDIM\",\n",
        "    },\n",
        ")\n",
        "\n",
        "# params:\n",
        "# negative_prompt, prompt, image, prompt_strength, num_outputs, num_inference_steps, guidance_scale, scheduler, seed\n",
        "\n",
        "# scheduler allowed values:DDIM, K_EULER, DPMSolverMultistep, K_EULER_ANCESTRAL, PNDM, KLMS\n",
        "# scheduler default value: DPMSolverMultistep\n",
        "\n",
        "# generated file name: strength0.7_inference25_DDIM_easysleep"
      ],
      "metadata": {
        "colab": {
          "base_uri": "https://localhost:8080/"
        },
        "id": "G1G6KPBM4prU",
        "outputId": "9ce753ac-94ae-4ffb-d423-1e236eac4af4"
      },
      "execution_count": null,
      "outputs": [
        {
          "output_type": "execute_result",
          "data": {
            "text/plain": [
              "['https://replicate.delivery/pbxt/XvWjksd80tqJOtT0fB7dKEN37Bo1GVHTvMBKN0dJZwtWdHfRA/out-0.png',\n",
              " 'https://replicate.delivery/pbxt/F2LYNpnwmR4MKBaJebtv8EwMSHZ1uHfxnVq3kN84rVbt6OejA/out-1.png',\n",
              " 'https://replicate.delivery/pbxt/Z4dfIYW3Ig2kUqiwE0mKmwOkIRO4Iyo5IY221AHpye1u6OejA/out-2.png']"
            ]
          },
          "metadata": {},
          "execution_count": 16
        }
      ]
    }
  ]
}