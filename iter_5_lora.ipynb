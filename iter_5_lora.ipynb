{
  "nbformat": 4,
  "nbformat_minor": 0,
  "metadata": {
    "colab": {
      "provenance": [],
      "mount_file_id": "1CQw7JGOojuDKWt1ERzzxYl526cdTwtU3",
      "authorship_tag": "ABX9TyPXd5ZVNqTltz7hQe5UU/Bx",
      "include_colab_link": true
    },
    "kernelspec": {
      "name": "python3",
      "display_name": "Python 3"
    },
    "language_info": {
      "name": "python"
    }
  },
  "cells": [
    {
      "cell_type": "markdown",
      "metadata": {
        "id": "view-in-github",
        "colab_type": "text"
      },
      "source": [
        "<a href=\"https://colab.research.google.com/github/hamster-with-human-hands/spatial-design-studio/blob/main/iter5_lora.ipynb\" target=\"_parent\"><img src=\"https://colab.research.google.com/assets/colab-badge.svg\" alt=\"Open In Colab\"/></a>"
      ]
    },
    {
      "cell_type": "code",
      "execution_count": null,
      "metadata": {
        "colab": {
          "base_uri": "https://localhost:8080/"
        },
        "id": "arR4TWrddZWU",
        "outputId": "8d11543b-fc0e-4559-afe6-49492db01146"
      },
      "outputs": [
        {
          "output_type": "stream",
          "name": "stdout",
          "text": [
            "Collecting replicate\n",
            "  Downloading replicate-0.21.1-py3-none-any.whl (35 kB)\n",
            "Collecting httpx<1,>=0.21.0 (from replicate)\n",
            "  Downloading httpx-0.25.2-py3-none-any.whl (74 kB)\n",
            "\u001b[2K     \u001b[90m━━━━━━━━━━━━━━━━━━━━━━━━━━━━━━━━━━━━━━━━\u001b[0m \u001b[32m75.0/75.0 kB\u001b[0m \u001b[31m2.3 MB/s\u001b[0m eta \u001b[36m0:00:00\u001b[0m\n",
            "\u001b[?25hRequirement already satisfied: packaging in /usr/local/lib/python3.10/dist-packages (from replicate) (23.2)\n",
            "Requirement already satisfied: pydantic>1 in /usr/local/lib/python3.10/dist-packages (from replicate) (1.10.13)\n",
            "Requirement already satisfied: typing-extensions>=4.5.0 in /usr/local/lib/python3.10/dist-packages (from replicate) (4.5.0)\n",
            "Requirement already satisfied: anyio in /usr/local/lib/python3.10/dist-packages (from httpx<1,>=0.21.0->replicate) (3.7.1)\n",
            "Requirement already satisfied: certifi in /usr/local/lib/python3.10/dist-packages (from httpx<1,>=0.21.0->replicate) (2023.11.17)\n",
            "Collecting httpcore==1.* (from httpx<1,>=0.21.0->replicate)\n",
            "  Downloading httpcore-1.0.2-py3-none-any.whl (76 kB)\n",
            "\u001b[2K     \u001b[90m━━━━━━━━━━━━━━━━━━━━━━━━━━━━━━━━━━━━━━━━\u001b[0m \u001b[32m76.9/76.9 kB\u001b[0m \u001b[31m6.9 MB/s\u001b[0m eta \u001b[36m0:00:00\u001b[0m\n",
            "\u001b[?25hRequirement already satisfied: idna in /usr/local/lib/python3.10/dist-packages (from httpx<1,>=0.21.0->replicate) (3.6)\n",
            "Requirement already satisfied: sniffio in /usr/local/lib/python3.10/dist-packages (from httpx<1,>=0.21.0->replicate) (1.3.0)\n",
            "Collecting h11<0.15,>=0.13 (from httpcore==1.*->httpx<1,>=0.21.0->replicate)\n",
            "  Downloading h11-0.14.0-py3-none-any.whl (58 kB)\n",
            "\u001b[2K     \u001b[90m━━━━━━━━━━━━━━━━━━━━━━━━━━━━━━━━━━━━━━━━\u001b[0m \u001b[32m58.3/58.3 kB\u001b[0m \u001b[31m7.4 MB/s\u001b[0m eta \u001b[36m0:00:00\u001b[0m\n",
            "\u001b[?25hRequirement already satisfied: exceptiongroup in /usr/local/lib/python3.10/dist-packages (from anyio->httpx<1,>=0.21.0->replicate) (1.2.0)\n",
            "Installing collected packages: h11, httpcore, httpx, replicate\n",
            "Successfully installed h11-0.14.0 httpcore-1.0.2 httpx-0.25.2 replicate-0.21.1\n"
          ]
        }
      ],
      "source": [
        "!pip install replicate"
      ]
    },
    {
      "cell_type": "code",
      "source": [
        "# !export REPLICATE_API_TOKEN=r8_B8nj5KkMfHshHYhwwvmKdXtVh86wnEr1BakhK\n",
        "# Set Replicate API token\n",
        "import os\n",
        "\n",
        "# Set Replicate API token\n",
        "os.environ[\"REPLICATE_API_TOKEN\"] = \"r8_B8nj5KkMfHshHYhwwvmKdXtVh86wnEr1BakhK\"\n",
        "\n",
        "# # Now you can use the replicate module\n",
        "# import replicate\n",
        "# output = replicate.run(\n",
        "#     \"stability-ai/stable-diffusion-img2img:15a3689ee13b0d2616e98820eca31d4c3abcd36672df6afce5cb6feb1d66087d\",\n",
        "#     input={\"prompt\": \"A fantasy landscape, trending on artstation\"}\n",
        "# )\n",
        "# print(output)\n"
      ],
      "metadata": {
        "id": "S4oOqc3L2Ssm"
      },
      "execution_count": null,
      "outputs": []
    },
    {
      "cell_type": "markdown",
      "source": [
        "changing params here, below is LoRA finetuning."
      ],
      "metadata": {
        "id": "pWA_L1_z3vkd"
      }
    },
    {
      "cell_type": "code",
      "source": [
        "import replicate\n",
        "replicate.run(\n",
        "  \"stability-ai/stable-diffusion:27b93a2413e7f36cd83da926f3656280b2931564ff050bf9575f1fdf9bcd7478\",\n",
        "    input={\"prompt\": \"casual meeting room with portable foldable comfortable seats, portable whiteboard, pantry and floor-to-ceiling windows for discussions that allow for natural light streaming in, creating a modern yet inviting atmosphere\",\n",
        "           \"image\": open(\"/content/audi_amd_small.png\", \"rb\"),\n",
        "            \"prompt_strength\": 0.8},\n",
        "    # input={\"image\": open(\"/content/audi_amd_small.png\", \"rb\")},\n",
        "    # input={\"prompt_strength\": 0.8},\n",
        "\n",
        ")\n",
        "\n",
        "# ['https://replicate.com/api/models/stability-ai/stable-diffusion/files/50fcac81-865d-499e-81ac-49de0cb79264/out-0.png']"
      ],
      "metadata": {
        "colab": {
          "base_uri": "https://localhost:8080/"
        },
        "id": "Cy7xW3Hi5nUH",
        "outputId": "ed9d5688-df75-4dae-da4e-8c9b326ed259"
      },
      "execution_count": null,
      "outputs": [
        {
          "output_type": "execute_result",
          "data": {
            "text/plain": [
              "['https://replicate.delivery/pbxt/QzL61g3K86agA5TflrQaMye1szehKb9XFMRs29OMDWJWjKfHB/out-0.png']"
            ]
          },
          "metadata": {},
          "execution_count": 17
        }
      ]
    },
    {
      "cell_type": "code",
      "source": [
        "import replicate\n",
        "replicate.run(\n",
        "  \"stability-ai/stable-diffusion:27b93a2413e7f36cd83da926f3656280b2931564ff050bf9575f1fdf9bcd7478\",\n",
        "    input={\"prompt\": \"casual meeting room with portable foldable comfortable seats, portable whiteboard, pantry and floor-to-ceiling windows for discussions that allow for natural light streaming in, creating a modern yet inviting atmosphere\",\n",
        "           \"image\": open(\"/content/audi_amd_small.png\", \"rb\"),\n",
        "           \"prompt_strength\": 0.8,\n",
        "          \"num_outputs\":3,\n",
        "            \"num_inference_steps\":25,\n",
        "           \"scheduler\": \"K_EULER\",\n",
        "    },\n",
        ")\n",
        "\n",
        "# params:\n",
        "# negative_prompt, prompt, image, prompt_strength, num_outputs, num_inference_steps, guidance_scale, scheduler, seed\n",
        "\n",
        "# scheduler allowed values:DDIM, K_EULER, DPMSolverMultistep, K_EULER_ANCESTRAL, PNDM, KLMS\n",
        "# scheduler default value: DPMSolverMultistep\n",
        "\n",
        "# generated file name: strength0.8_inference25_DPMSolverMultistep"
      ],
      "metadata": {
        "colab": {
          "base_uri": "https://localhost:8080/"
        },
        "id": "EXJzMqCp5u-h",
        "outputId": "b5137cd7-a699-4880-f27d-336a91dbd7fd"
      },
      "execution_count": null,
      "outputs": [
        {
          "output_type": "execute_result",
          "data": {
            "text/plain": [
              "['https://replicate.delivery/pbxt/7eCIp1nje8ujrUxMXAWIqcZgeC3eX9f0lzq5l5YCmBj7t0xPC/out-0.png',\n",
              " 'https://replicate.delivery/pbxt/TKVQzkFd2xbPNp65nMDopirWaV0EbqO0fWLg80i06Tc4SHfRA/out-1.png',\n",
              " 'https://replicate.delivery/pbxt/VigPJheCIfsbRkQOmLeLsiNwoOWuklwtqDGNKXoGbUEhLd8jA/out-2.png']"
            ]
          },
          "metadata": {},
          "execution_count": 6
        }
      ]
    },
    {
      "cell_type": "code",
      "source": [
        "import replicate\n",
        "replicate.run(\n",
        "  \"stability-ai/stable-diffusion:27b93a2413e7f36cd83da926f3656280b2931564ff050bf9575f1fdf9bcd7478\",\n",
        "    input={\"prompt\": \"casual meeting room with portable foldable comfortable seats, portable whiteboard, pantry and floor-to-ceiling windows for discussions that allow for natural light streaming in, creating a modern yet inviting atmosphere\",\n",
        "           \"image\": open(\"/content/audi_amd_small.png\", \"rb\"),\n",
        "           \"prompt_strength\": 0.8,\n",
        "          \"num_outputs\":3,\n",
        "            \"num_inference_steps\":25,\n",
        "           \"scheduler\": \"DDIM\",\n",
        "    },\n",
        ")\n",
        "\n",
        "# params:\n",
        "# negative_prompt, prompt, image, prompt_strength, num_outputs, num_inference_steps, guidance_scale, scheduler, seed\n",
        "\n",
        "# scheduler allowed values:DDIM, K_EULER, DPMSolverMultistep, K_EULER_ANCESTRAL, PNDM, KLMS\n",
        "# scheduler default value: DPMSolverMultistep\n",
        "\n",
        "# generated file name: strength0.8_inference25_DDIM"
      ],
      "metadata": {
        "colab": {
          "base_uri": "https://localhost:8080/"
        },
        "id": "nA1_ng2708NZ",
        "outputId": "6359fe7b-8520-4e9c-8534-47582b29588e"
      },
      "execution_count": null,
      "outputs": [
        {
          "output_type": "execute_result",
          "data": {
            "text/plain": [
              "['https://replicate.delivery/pbxt/eEhezSvMs9vzfJHLoORpSBkL7Sh28fhbBsUtqfiyZPBMQ1xPC/out-0.png',\n",
              " 'https://replicate.delivery/pbxt/NnZ8d50msYpeY6cSA0DgUCgyyDQe2OHmM3yDER6yayJCqOejA/out-1.png',\n",
              " 'https://replicate.delivery/pbxt/hAxJ0PTqzuomLpp4Nreiksoe7XQvGBLDW4fMDvONsD0FUd8jA/out-2.png']"
            ]
          },
          "metadata": {},
          "execution_count": 7
        }
      ]
    },
    {
      "cell_type": "code",
      "source": [
        "import replicate\n",
        "replicate.run(\n",
        "  \"stability-ai/stable-diffusion:27b93a2413e7f36cd83da926f3656280b2931564ff050bf9575f1fdf9bcd7478\",\n",
        "    input={\"prompt\": \"casual meeting room with portable foldable comfortable seats, portable whiteboard, pantry and floor-to-ceiling windows for discussions that allow for natural light streaming in, creating a modern yet inviting atmosphere\",\n",
        "           \"image\": open(\"/content/audi_amd_small.png\", \"rb\"),\n",
        "           \"prompt_strength\": 0.7,\n",
        "          \"num_outputs\":3,\n",
        "            \"num_inference_steps\":25,\n",
        "           \"scheduler\": \"DDIM\",\n",
        "    },\n",
        ")\n",
        "\n",
        "# params:\n",
        "# negative_prompt, prompt, image, prompt_strength, num_outputs, num_inference_steps, guidance_scale, scheduler, seed\n",
        "\n",
        "# scheduler allowed values:DDIM, K_EULER, DPMSolverMultistep, K_EULER_ANCESTRAL, PNDM, KLMS\n",
        "# scheduler default value: DPMSolverMultistep\n",
        "\n",
        "# generated file name: strength0.7_inference25_DDIM"
      ],
      "metadata": {
        "colab": {
          "base_uri": "https://localhost:8080/"
        },
        "id": "tRyoyIkY1dGY",
        "outputId": "211c6c50-bafe-4205-81fa-923344f2efe7"
      },
      "execution_count": null,
      "outputs": [
        {
          "output_type": "execute_result",
          "data": {
            "text/plain": [
              "['https://replicate.delivery/pbxt/JkAttadjk5aFAR3qwe6lQKQh3ukmWTyto115yY7WAqXsVHfRA/out-0.png',\n",
              " 'https://replicate.delivery/pbxt/VIzv798fMhQgL6LzHav3s0ZxjeLj4qPMwRhj3skMDzLZrOejA/out-1.png',\n",
              " 'https://replicate.delivery/pbxt/DHBACh8cu2onBtfOqwDL2KFHBn6W2tdoschkeVQ4DgGZrOejA/out-2.png']"
            ]
          },
          "metadata": {},
          "execution_count": 8
        }
      ]
    },
    {
      "cell_type": "code",
      "source": [
        "import replicate\n",
        "replicate.run(\n",
        "  \"stability-ai/stable-diffusion:27b93a2413e7f36cd83da926f3656280b2931564ff050bf9575f1fdf9bcd7478\",\n",
        "    input={\"prompt\": \"casual meeting room with portable foldable comfortable seats, portable whiteboard, pantry and floor-to-ceiling windows for discussions that allow for natural light streaming in, creating a modern yet inviting atmosphere\",\n",
        "           \"image\": open(\"/content/audi_amd_small.png\", \"rb\"),\n",
        "           \"prompt_strength\": 0.9,\n",
        "          \"num_outputs\":3,\n",
        "            \"num_inference_steps\":25,\n",
        "           \"scheduler\": \"DDIM\",\n",
        "    },\n",
        ")\n",
        "\n",
        "# params:\n",
        "# negative_prompt, prompt, image, prompt_strength, num_outputs, num_inference_steps, guidance_scale, scheduler, seed\n",
        "\n",
        "# scheduler allowed values:DDIM, K_EULER, DPMSolverMultistep, K_EULER_ANCESTRAL, PNDM, KLMS\n",
        "# scheduler default value: DPMSolverMultistep\n",
        "\n",
        "# generated file name: strength0.9_inference25_DDIM"
      ],
      "metadata": {
        "colab": {
          "base_uri": "https://localhost:8080/"
        },
        "id": "6v2mHO4S08d1",
        "outputId": "8a222e7e-43dc-4a1f-99ba-8622de07f955"
      },
      "execution_count": null,
      "outputs": [
        {
          "output_type": "execute_result",
          "data": {
            "text/plain": [
              "['https://replicate.delivery/pbxt/FwkfIUF83ZRQPa8BQQbKMc83ZFvBr6H9FiHseqRSQm0qtOejA/out-0.png',\n",
              " 'https://replicate.delivery/pbxt/qDwsSQ3i1lIaHFB5JEqvtEHwbX3JjZ7eBU5ea5OmoIRrtOejA/out-1.png',\n",
              " 'https://replicate.delivery/pbxt/cjEsbelnxjSSdyBhFtj32xX9XRylQUyj7XlINRPGxrB2WHfRA/out-2.png']"
            ]
          },
          "metadata": {},
          "execution_count": 9
        }
      ]
    },
    {
      "cell_type": "code",
      "source": [
        "import replicate\n",
        "replicate.run(\n",
        "  \"stability-ai/stable-diffusion:27b93a2413e7f36cd83da926f3656280b2931564ff050bf9575f1fdf9bcd7478\",\n",
        "    input={\"prompt\": \"casual meeting room with portable foldable comfortable seats, portable whiteboard, pantry and floor-to-ceiling windows for discussions that allow for natural light streaming in, creating a modern yet inviting atmosphere\",\n",
        "           \"image\": open(\"/content/audi_amd_small.png\", \"rb\"),\n",
        "           \"prompt_strength\": 0.9,\n",
        "          \"num_outputs\":3,\n",
        "            \"num_inference_steps\":25,\n",
        "           \"scheduler\": \"K_EULER\",\n",
        "    },\n",
        ")\n",
        "\n",
        "# params:\n",
        "# negative_prompt, prompt, image, prompt_strength, num_outputs, num_inference_steps, guidance_scale, scheduler, seed\n",
        "\n",
        "# scheduler allowed values:DDIM, K_EULER, DPMSolverMultistep, K_EULER_ANCESTRAL, PNDM, KLMS\n",
        "# scheduler default value: DPMSolverMultistep\n",
        "\n",
        "# generated file name: strength0.9_inference25_K-EULER"
      ],
      "metadata": {
        "colab": {
          "base_uri": "https://localhost:8080/"
        },
        "id": "jA9WC7Zj2XJv",
        "outputId": "fc0d5809-16c0-479b-b666-73689fc47c14"
      },
      "execution_count": null,
      "outputs": [
        {
          "output_type": "execute_result",
          "data": {
            "text/plain": [
              "['https://replicate.delivery/pbxt/H9wTsjfOUfi5BEDWHeVOpPa8K3Jc5e1Q51J1c1PisMoW864HB/out-0.png',\n",
              " 'https://replicate.delivery/pbxt/R5iWBLLks9KJDpAfsvmeQtKO8QUQuWRk0EykTip0GldFvOejA/out-1.png',\n",
              " 'https://replicate.delivery/pbxt/7KbwAznlqfUzHqA98dGoRh5cyzxVPrAedLFGxyhL2NGGvOejA/out-2.png']"
            ]
          },
          "metadata": {},
          "execution_count": 10
        }
      ]
    },
    {
      "cell_type": "code",
      "source": [
        "import replicate\n",
        "replicate.run(\n",
        "  \"stability-ai/stable-diffusion:27b93a2413e7f36cd83da926f3656280b2931564ff050bf9575f1fdf9bcd7478\",\n",
        "    input={\"prompt\": \"casual meeting room with portable foldable comfortable seats, portable whiteboard, pantry and floor-to-ceiling windows for discussions that allow for natural light streaming in, creating a modern yet inviting atmosphere\",\n",
        "           \"image\": open(\"/content/audi_amd_small.png\", \"rb\"),\n",
        "           \"prompt_strength\": 0.9,\n",
        "          \"num_outputs\":3,\n",
        "            \"num_inference_steps\":25,\n",
        "          #  \"scheduler\": \"DPMSolverMultistep\",\n",
        "    },\n",
        ")\n",
        "\n",
        "# params:\n",
        "# negative_prompt, prompt, image, prompt_strength, num_outputs, num_inference_steps, guidance_scale, scheduler, seed\n",
        "\n",
        "# scheduler allowed values:DDIM, K_EULER, DPMSolverMultistep, K_EULER_ANCESTRAL, PNDM, KLMS\n",
        "# scheduler default value: DPMSolverMultistep\n",
        "\n",
        "# generated file name: strength0.9_inference25_DPMSolverMultistep"
      ],
      "metadata": {
        "colab": {
          "base_uri": "https://localhost:8080/"
        },
        "id": "pL4ZpmaY3nuo",
        "outputId": "cdb4b121-5c9e-4faf-80c0-32f353752581"
      },
      "execution_count": null,
      "outputs": [
        {
          "output_type": "execute_result",
          "data": {
            "text/plain": [
              "['https://replicate.delivery/pbxt/3gah7ma1ey3rbyGgmcLq5KqSn1SpSheU72QG6fnKXhITpd8jA/out-0.png',\n",
              " 'https://replicate.delivery/pbxt/QSoFHKpS8w5bDhCU3fXA8hkbvGDlDlMjLnvk3T0WJBnUaHfRA/out-1.png',\n",
              " 'https://replicate.delivery/pbxt/doBb6KB56wJaHx09VX7DEzeGNIU8wuc2jIaQL10wAOfq0OejA/out-2.png']"
            ]
          },
          "metadata": {},
          "execution_count": 12
        }
      ]
    },
    {
      "cell_type": "code",
      "source": [
        "\n",
        "replicate.run(\n",
        "  \"stability-ai/stable-diffusion:27b93a2413e7f36cd83da926f3656280b2931564ff050bf9575f1fdf9bcd7478\",\n",
        "    input={\"prompt\": \"casual meeting room with portable foldable comfortable seats, portable whiteboard, pantry, and floor-to-ceiling windows for discussions that allow for natural light streaming in, creating a modern yet inviting atmosphere\",\n",
        "           \"image\": open(\"/content/audi_amd_small.png\", \"rb\"),\n",
        "           \"prompt_strength\": 0.6,\n",
        "          \"num_outputs\":3,\n",
        "            \"num_inference_steps\":25,\n",
        "           \"scheduler\": \"DDIM\",\n",
        "    },\n",
        ")\n",
        "\n",
        "# params:\n",
        "# negative_prompt, prompt, image, prompt_strength, num_outputs, num_inference_steps, guidance_scale, scheduler, seed\n",
        "\n",
        "# scheduler allowed values:DDIM, K_EULER, DPMSolverMultistep, K_EULER_ANCESTRAL, PNDM, KLMS\n",
        "# scheduler default value: DPMSolverMultistep\n",
        "\n",
        "# generated file name: strength0.6_inference25_DDIM"
      ],
      "metadata": {
        "colab": {
          "base_uri": "https://localhost:8080/"
        },
        "id": "FV6xJs6M394p",
        "outputId": "9a224c9f-b6b6-4954-fb5f-914f75d0b84a"
      },
      "execution_count": null,
      "outputs": [
        {
          "output_type": "execute_result",
          "data": {
            "text/plain": [
              "['https://replicate.delivery/pbxt/80fykDmXJpQraiMgsaTStWq5ufeVBJbFSrGTVh9SdzOgvd8jA/out-0.png',\n",
              " 'https://replicate.delivery/pbxt/3yvq0UzAL1rgAJEACAFIkv5OvpAo7E3rSTFF06g5oiK8tjfIA/out-1.png',\n",
              " 'https://replicate.delivery/pbxt/ET8HUYqQgFakPxR5oELpSL3k7jueXRBa4R50tALhZCh4bHfRA/out-2.png']"
            ]
          },
          "metadata": {},
          "execution_count": 14
        }
      ]
    },
    {
      "cell_type": "code",
      "source": [
        "replicate.run(\n",
        "  \"stability-ai/stable-diffusion:27b93a2413e7f36cd83da926f3656280b2931564ff050bf9575f1fdf9bcd7478\",\n",
        "    input={\"prompt\": \"casual meeting room with portable foldable comfortable seats, easy to sleep, portable whiteboard, pantry, and floor-to-ceiling windows for discussions that allow for natural light streaming in, creating a modern yet inviting atmosphere\",\n",
        "           \"image\": open(\"/content/audi_amd_small.png\", \"rb\"),\n",
        "           \"prompt_strength\": 0.7,\n",
        "          \"num_outputs\":3,\n",
        "            \"num_inference_steps\":25,\n",
        "           \"scheduler\": \"DDIM\",\n",
        "    },\n",
        ")\n",
        "\n",
        "# params:\n",
        "# negative_prompt, prompt, image, prompt_strength, num_outputs, num_inference_steps, guidance_scale, scheduler, seed\n",
        "\n",
        "# scheduler allowed values:DDIM, K_EULER, DPMSolverMultistep, K_EULER_ANCESTRAL, PNDM, KLMS\n",
        "# scheduler default value: DPMSolverMultistep\n",
        "\n",
        "# generated file name: strength0.7_inference25_DDIM_easysleep"
      ],
      "metadata": {
        "colab": {
          "base_uri": "https://localhost:8080/"
        },
        "id": "G1G6KPBM4prU",
        "outputId": "9ce753ac-94ae-4ffb-d423-1e236eac4af4"
      },
      "execution_count": null,
      "outputs": [
        {
          "output_type": "execute_result",
          "data": {
            "text/plain": [
              "['https://replicate.delivery/pbxt/XvWjksd80tqJOtT0fB7dKEN37Bo1GVHTvMBKN0dJZwtWdHfRA/out-0.png',\n",
              " 'https://replicate.delivery/pbxt/F2LYNpnwmR4MKBaJebtv8EwMSHZ1uHfxnVq3kN84rVbt6OejA/out-1.png',\n",
              " 'https://replicate.delivery/pbxt/Z4dfIYW3Ig2kUqiwE0mKmwOkIRO4Iyo5IY221AHpye1u6OejA/out-2.png']"
            ]
          },
          "metadata": {},
          "execution_count": 16
        }
      ]
    },
    {
      "cell_type": "markdown",
      "source": [
        "LoRA finetuning"
      ],
      "metadata": {
        "id": "SDjyX2DS36ax"
      }
    },
    {
      "cell_type": "code",
      "source": [
        "#zipped training file\n",
        "#  https://drive.google.com/file/d/1OfZeuJp6Gh35CVC0g3pF9HimEjsV2Z4Z/view?usp=sharing"
      ],
      "metadata": {
        "id": "6g4Wb8r_2wRk"
      },
      "execution_count": null,
      "outputs": []
    },
    {
      "cell_type": "code",
      "source": [
        "# # import os\n",
        "# # import requests\n",
        "\n",
        "# # zip_path = \"/content/replicate_imgs.zip\"\n",
        "# # zip_filename = zip_path.split(\"/\")[-1]\n",
        "\n",
        "# # # os.environ[\"REPLICATE_API_TOKEN\"] = \"r8_B8nj5KkMfHshHYhwwvmKdXtVh86wnEr1BakhK\"\n",
        "\n",
        "# # # Upload inputs to cloud storage.\n",
        "# # upload_response = requests.post(\n",
        "# #     \"https://dreambooth-api-experimental.replicate.com/v1/upload/\" + zip_filename,\n",
        "# #     headers={\"Authorization\": \"Token \" + os.environ[\"REPLICATE_API_TOKEN\"]},\n",
        "# # ).json()\n",
        "\n",
        "# # with open(zip_path, \"rb\") as f:\n",
        "# #     requests.put(upload_response[\"upload_url\"], data=f)\n",
        "# # zip_url = upload_response[\"serving_url\"]\n",
        "# # print (zip_url)\n",
        "\n",
        "# import os\n",
        "# import requests\n",
        "\n",
        "# # os.environ[\"REPLICATE_API_TOKEN\"] = \"r8_7VBIYkwSZP1B7Ob77h0ZO537qwsrJjH4dOaZC\"\n",
        "\n",
        "# zip_path = \"/content/replicate_imgs.zip\"\n",
        "# zip_filename = zip_path.split(\"/\")[-1]\n",
        "\n",
        "# # Uploading the file to the cloud storage\n",
        "# upload_response = requests.post(\n",
        "#     \"https://dreambooth-api-experimental.replicate.com/v1/upload/\" + zip_filename,\n",
        "#     headers={\"Authorization\": \"Token \" + os.environ.get(\"REPLICATE_API_TOKEN\", \"\")},\n",
        "# ).json()\n",
        "\n",
        "# # Opening the local file for reading\n",
        "# with open(zip_path, \"rb\") as f:\n",
        "#     # Uploading the file content to the cloud storage\n",
        "#     requests.put(upload_response[\"upload_url\"], data=f)\n",
        "\n",
        "# # The serving URL is the URL where the uploaded file can be accessed\n",
        "# zip_url = upload_response[\"serving_url\"]\n",
        "# print(zip_url)\n"
      ],
      "metadata": {
        "colab": {
          "base_uri": "https://localhost:8080/"
        },
        "id": "_dJi87r05e5n",
        "outputId": "c9977236-4711-4ed9-81a6-627c12419c53"
      },
      "execution_count": null,
      "outputs": [
        {
          "output_type": "stream",
          "name": "stdout",
          "text": [
            "https://replicate.delivery/pbxt/K0DHJL9SEA0UBZhQ5VUy8yv0IRKjAoiKkfj3ezMKOgQwqCMN/replicate_imgs.zip\n"
          ]
        }
      ]
    },
    {
      "cell_type": "code",
      "source": [
        "\n",
        "\n",
        "import os\n",
        "import requests\n",
        "import replicate\n",
        "\n",
        "# os.environ[\"REPLICATE_API_TOKEN\"] = \"r8_B8nj5KkMfHshHYhwwvmKdXtVh86wnEr1BakhK\"\n",
        "\n",
        "# Zip file containing input images, hosted somewhere on the internet\n",
        "zip_url = \"https://github.com/hamster-with-human-hands/replicate_km/blob/main/replicate_imgs.zip\"\n",
        "\n",
        "# Train the model\n",
        "lora_url = replicate.run(\n",
        "    \"replicate/lora-training:b2a308762e36ac48d16bfadc03a65493fe6e799f429f7941639a6acec5b276cc\",\n",
        "    input={\"instance_data\": zip_url, \"task\": \"style\"}\n",
        ")"
      ],
      "metadata": {
        "id": "vS-5zJZq4Dq4"
      },
      "execution_count": null,
      "outputs": []
    },
    {
      "cell_type": "code",
      "source": [
        "import replicate\n",
        "\n",
        "lora_url = \"https://replicate.com/p/z5iyvmjblwge3d6f73acuqzwru\"\n",
        "\n",
        "output_url = replicate.run(\n",
        "    \"replicate/lora:97ec1b97e5e6a6476e45ba7211d368509bbf39c30a927e39637f3cb98b36ac91\",\n",
        "    input={\n",
        "        \"prompt\": \"Casual meeting room with portable foldable comfortable seats, portable whiteboard, pantry and floor-to-ceiling windows for discussions that allow for natural light streaming in, creating a modern yet inviting atmosphere\",\n",
        "        \"lora_urls\": lora_url,\n",
        "    },\n",
        ")"
      ],
      "metadata": {
        "id": "wHYlzF4w4l8i"
      },
      "execution_count": null,
      "outputs": []
    }
  ]
}
